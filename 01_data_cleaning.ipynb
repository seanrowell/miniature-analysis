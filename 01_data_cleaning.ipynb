{
 "cells": [
  {
   "cell_type": "markdown",
   "id": "c046c0a2",
   "metadata": {},
   "source": [
    "# 🧼 01 - Data Cleaning & Preprocessing"
   ]
  },
  {
   "cell_type": "code",
   "execution_count": null,
   "id": "f1d833c2",
   "metadata": {},
   "outputs": [],
   "source": [
    "import pandas as pd\n",
    "import numpy as np"
   ]
  },
  {
   "cell_type": "code",
   "execution_count": null,
   "id": "5de02fdf",
   "metadata": {},
   "outputs": [],
   "source": [
    "df = pd.read_csv('../data/consumer_spending_data.csv')\n",
    "df.head()"
   ]
  },
  {
   "cell_type": "code",
   "execution_count": null,
   "id": "471dee7a",
   "metadata": {},
   "outputs": [],
   "source": [
    "df.info()"
   ]
  },
  {
   "cell_type": "code",
   "execution_count": null,
   "id": "02df86cf",
   "metadata": {},
   "outputs": [],
   "source": [
    "df.isnull().sum()"
   ]
  },
  {
   "cell_type": "code",
   "execution_count": null,
   "id": "89d578e0",
   "metadata": {},
   "outputs": [],
   "source": [
    "df.describe()"
   ]
  },
  {
   "cell_type": "code",
   "execution_count": null,
   "id": "61b1aee8",
   "metadata": {},
   "outputs": [],
   "source": [
    "# Create new columns\n",
    "df['Spend_Per_Visit'] = df['Total_Spend'] / df['Visit_Frequency']\n",
    "df['Income_Group'] = pd.cut(df['Income'], bins=[0, 40000, 80000, 120000], labels=['Low', 'Mid', 'High'])\n",
    "df['Age_Group'] = pd.cut(df['Age'], bins=[18, 30, 50, 70], labels=['Young', 'Adult', 'Senior'])\n",
    "df.head()"
   ]
  }
 ],
 "metadata": {},
 "nbformat": 4,
 "nbformat_minor": 5
}
