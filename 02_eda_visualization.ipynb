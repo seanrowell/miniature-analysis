{
 "cells": [
  {
   "cell_type": "markdown",
   "id": "c6baff9c",
   "metadata": {},
   "source": [
    "# 📊 02 - Exploratory Data Analysis (EDA) & Visualization"
   ]
  },
  {
   "cell_type": "code",
   "execution_count": null,
   "id": "753377dc",
   "metadata": {},
   "outputs": [],
   "source": [
    "import pandas as pd\n",
    "import matplotlib.pyplot as plt\n",
    "import seaborn as sns"
   ]
  },
  {
   "cell_type": "code",
   "execution_count": null,
   "id": "0652041a",
   "metadata": {},
   "outputs": [],
   "source": [
    "df = pd.read_csv('../data/consumer_spending_data.csv')\n",
    "df['Spend_Per_Visit'] = df['Total_Spend'] / df['Visit_Frequency']\n",
    "df['Income_Group'] = pd.cut(df['Income'], bins=[0, 40000, 80000, 120000], labels=['Low', 'Mid', 'High'])\n",
    "df['Age_Group'] = pd.cut(df['Age'], bins=[18, 30, 50, 70], labels=['Young', 'Adult', 'Senior'])"
   ]
  },
  {
   "cell_type": "code",
   "execution_count": null,
   "id": "05fe54d2",
   "metadata": {},
   "outputs": [],
   "source": [
    "# Histogram - Income\n",
    "sns.histplot(df['Income'], kde=True)\n",
    "plt.title('Income Distribution')\n",
    "plt.show()"
   ]
  },
  {
   "cell_type": "code",
   "execution_count": null,
   "id": "345ecf09",
   "metadata": {},
   "outputs": [],
   "source": [
    "# Histogram - Age\n",
    "sns.histplot(df['Age'], kde=True)\n",
    "plt.title('Age Distribution')\n",
    "plt.show()"
   ]
  },
  {
   "cell_type": "code",
   "execution_count": null,
   "id": "0496f035",
   "metadata": {},
   "outputs": [],
   "source": [
    "# Bar plot - Total Spend by Region\n",
    "sns.barplot(x='Region', y='Total_Spend', data=df, estimator=sum)\n",
    "plt.title('Total Spend by Region')\n",
    "plt.xticks(rotation=45)\n",
    "plt.show()"
   ]
  },
  {
   "cell_type": "code",
   "execution_count": null,
   "id": "62d847b2",
   "metadata": {},
   "outputs": [],
   "source": [
    "# Box plot - Spend per Visit by Gender\n",
    "sns.boxplot(x='Gender', y='Spend_Per_Visit', data=df)\n",
    "plt.title('Spend Per Visit by Gender')\n",
    "plt.show()"
   ]
  },
  {
   "cell_type": "code",
   "execution_count": null,
   "id": "11a953d2",
   "metadata": {},
   "outputs": [],
   "source": [
    "# Correlation Heatmap\n",
    "correlation = df[['Age', 'Income', 'Visit_Frequency', 'Avg_Spend_Per_Visit', 'Total_Spend']].corr()\n",
    "sns.heatmap(correlation, annot=True, cmap='coolwarm')\n",
    "plt.title('Correlation Matrix')\n",
    "plt.show()"
   ]
  }
 ],
 "metadata": {},
 "nbformat": 4,
 "nbformat_minor": 5
}
